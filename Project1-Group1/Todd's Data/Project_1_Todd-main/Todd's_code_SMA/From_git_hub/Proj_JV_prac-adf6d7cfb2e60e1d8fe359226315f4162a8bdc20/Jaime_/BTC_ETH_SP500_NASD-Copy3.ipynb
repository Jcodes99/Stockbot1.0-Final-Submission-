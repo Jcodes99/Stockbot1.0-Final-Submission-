{
 "cells": [
  {
   "cell_type": "code",
   "execution_count": 1,
   "id": "db163187-9b92-49de-b975-17ece31d0235",
   "metadata": {},
   "outputs": [
    {
     "ename": "ModuleNotFoundError",
     "evalue": "No module named 'yfinance'",
     "output_type": "error",
     "traceback": [
      "\u001b[1;31m---------------------------------------------------------------------------\u001b[0m",
      "\u001b[1;31mModuleNotFoundError\u001b[0m                       Traceback (most recent call last)",
      "\u001b[1;32m~\\AppData\\Local\\Temp/ipykernel_16196/1677290575.py\u001b[0m in \u001b[0;36m<module>\u001b[1;34m\u001b[0m\n\u001b[0;32m      4\u001b[0m \u001b[1;32mimport\u001b[0m \u001b[0mnumpy\u001b[0m \u001b[1;32mas\u001b[0m \u001b[0mnp\u001b[0m\u001b[1;33m\u001b[0m\u001b[1;33m\u001b[0m\u001b[0m\n\u001b[0;32m      5\u001b[0m \u001b[1;32mimport\u001b[0m \u001b[0mpandas\u001b[0m \u001b[1;32mas\u001b[0m \u001b[0mpd\u001b[0m\u001b[1;33m\u001b[0m\u001b[1;33m\u001b[0m\u001b[0m\n\u001b[1;32m----> 6\u001b[1;33m \u001b[1;32mimport\u001b[0m \u001b[0myfinance\u001b[0m \u001b[1;32mas\u001b[0m \u001b[0myf\u001b[0m\u001b[1;33m\u001b[0m\u001b[1;33m\u001b[0m\u001b[0m\n\u001b[0m\u001b[0;32m      7\u001b[0m \u001b[1;32mimport\u001b[0m \u001b[0mrequests\u001b[0m\u001b[1;33m\u001b[0m\u001b[1;33m\u001b[0m\u001b[0m\n\u001b[0;32m      8\u001b[0m \u001b[1;32mimport\u001b[0m \u001b[0malpaca_trade_api\u001b[0m \u001b[1;32mas\u001b[0m \u001b[0mtradeapi\u001b[0m\u001b[1;33m\u001b[0m\u001b[1;33m\u001b[0m\u001b[0m\n",
      "\u001b[1;31mModuleNotFoundError\u001b[0m: No module named 'yfinance'"
     ]
    }
   ],
   "source": [
    "#pip install yahoo-finance\n",
    "\n",
    "import os\n",
    "import numpy as np \n",
    "import pandas as pd \n",
    "import yfinance as yf\n",
    "import requests\n",
    "import alpaca_trade_api as tradeapi\n",
    "import hvplot.pandas \n",
    "import questionary\n",
    "import fire\n",
    "import urllib.request\n",
    "import responses"
   ]
  },
  {
   "cell_type": "code",
   "execution_count": 2,
   "id": "81980d5a-3cd7-4bbd-bc26-631b4153de20",
   "metadata": {},
   "outputs": [
    {
     "ename": "NameError",
     "evalue": "name 'requests' is not defined",
     "output_type": "error",
     "traceback": [
      "\u001b[1;31m---------------------------------------------------------------------------\u001b[0m",
      "\u001b[1;31mNameError\u001b[0m                                 Traceback (most recent call last)",
      "\u001b[1;32m~\\AppData\\Local\\Temp/ipykernel_16196/1939343560.py\u001b[0m in \u001b[0;36m<module>\u001b[1;34m\u001b[0m\n\u001b[0;32m      1\u001b[0m \u001b[1;31m# retrieving yahoo indices for cryptocurrency\u001b[0m\u001b[1;33m\u001b[0m\u001b[1;33m\u001b[0m\u001b[0m\n\u001b[1;32m----> 2\u001b[1;33m \u001b[0mcrypto_indices\u001b[0m \u001b[1;33m=\u001b[0m \u001b[0mpd\u001b[0m\u001b[1;33m.\u001b[0m\u001b[0mread_html\u001b[0m\u001b[1;33m(\u001b[0m\u001b[0mrequests\u001b[0m\u001b[1;33m.\u001b[0m\u001b[0mget\u001b[0m\u001b[1;33m(\u001b[0m\u001b[1;34m'https://finance.yahoo.com/cryptocurrencies'\u001b[0m\u001b[1;33m)\u001b[0m\u001b[1;33m.\u001b[0m\u001b[0mtext\u001b[0m\u001b[1;33m)\u001b[0m\u001b[1;33m\u001b[0m\u001b[1;33m\u001b[0m\u001b[0m\n\u001b[0m\u001b[0;32m      3\u001b[0m \u001b[0mmajor_crypto\u001b[0m \u001b[1;33m=\u001b[0m \u001b[0mcrypto_indices\u001b[0m\u001b[1;33m[\u001b[0m\u001b[1;36m0\u001b[0m\u001b[1;33m]\u001b[0m\u001b[1;33m\u001b[0m\u001b[1;33m\u001b[0m\u001b[0m\n\u001b[0;32m      4\u001b[0m \u001b[0mmajor_crypto\u001b[0m\u001b[1;33m.\u001b[0m\u001b[0mhead\u001b[0m\u001b[1;33m(\u001b[0m\u001b[1;33m)\u001b[0m\u001b[1;33m\u001b[0m\u001b[1;33m\u001b[0m\u001b[0m\n",
      "\u001b[1;31mNameError\u001b[0m: name 'requests' is not defined"
     ]
    }
   ],
   "source": [
    "# retrieving yahoo indices for cryptocurrency\n",
    "crypto_indices = pd.read_html(requests.get('https://finance.yahoo.com/cryptocurrencies').text)\n",
    "major_crypto = crypto_indices[0]\n",
    "major_crypto.head()"
   ]
  },
  {
   "cell_type": "code",
   "execution_count": 3,
   "id": "b2523dd3-7a2a-44a8-8ee8-53cb89dadb94",
   "metadata": {},
   "outputs": [],
   "source": [
    "def get_user_info_1():\n",
    "    \"\"\"Prompt dialog to get the user's date range (n) and the number of days in the simple moving average (SMA) (window) information.\n",
    "\n",
    "    Returns:\n",
    "        Returns the Date Range and SMA.\n",
    "    \"\"\"\n",
    "    \n",
    "    html = response.read().decode('utf-8')\n",
    "    \n",
    "    n = 0\n",
    "    \n",
    "    n = questionary.select(\n",
    "    \"What do you want to do?\",\n",
    "    choices=[\n",
    "        'Order a pizza',\n",
    "        'Make a reservation',\n",
    "        'Ask for opening hours'\n",
    "    ]).ask()  # returns value of selection\n",
    "    \n",
    "    \n",
    "    #n = questionary.text(\"What is the date range to be analyzed?  Please respond in number of days\").ask()\n",
    "    \n",
    "    #n = float(n)\n",
    "    \n",
    "    print(n)\n",
    "    \n",
    "    return n\n",
    "\n"
   ]
  },
  {
   "cell_type": "code",
   "execution_count": 4,
   "id": "51a5c664-262e-4487-b5ec-942bff58f2b7",
   "metadata": {},
   "outputs": [],
   "source": [
    "def get_user_info_2():\n",
    "    \"\"\"Prompt dialog to get the user's date range (n) and the number of days in the simple moving average (SMA) (window) information.\n",
    "\n",
    "    Returns:\n",
    "        Returns the Date Range and SMA.\n",
    "    \"\"\"\n",
    "    window = 0\n",
    "    window = questionary.text(\"How long, in number of days, is the SMA to be?  e.g., 50 DMA, 100 DMA, 200 DMA, etc?\").ask()\n",
    "    \n",
    "    window = float(window)\n",
    "    \n",
    "    print(window)\n",
    "    \n",
    "    return window\n",
    "\n"
   ]
  },
  {
   "cell_type": "code",
   "execution_count": 5,
   "id": "5ddc04d8-1a5b-489b-8579-2135e6c02d1c",
   "metadata": {},
   "outputs": [],
   "source": [
    "def set_timeperiod():\n",
    "    from datetime import date\n",
    "    today = str(date.today())\n",
    "    print(today)\n",
    "    \n",
    "    # from the initial user input n is already set\n",
    "\n",
    "    from datetime import datetime, timedelta\n",
    "    import time\n",
    "    today = datetime.today()\n",
    "    n = get_user_info_1()\n",
    "    start_date = today - timedelta(days=n)\n",
    "    #print(f\"Today's date,\"  str(today))\n",
    "    #)\n",
    "    #print(f\"The start date for time period,\"  start_date.strftime('%Y-%m-%d')\n",
    "    #)\n",
    "    print (today)\n",
    "    print (start_date)\n",
    "    \n",
    "    return today, start_date"
   ]
  },
  {
   "cell_type": "code",
   "execution_count": null,
   "id": "6425f6ad-0563-48db-b658-5ce8cc4b0fb0",
   "metadata": {},
   "outputs": [],
   "source": [
    "def BTC():\n",
    "    btc_df =btc_data.loc[time_period(start_date):time_period(today)]\n",
    "\n",
    "    btc_df.head(85)\n",
    "    \n",
    "    btc_df =btc_data.loc[timeperiod(start_date):time_period(today)]\n",
    "\n",
    "    btc_df.head(85)\n",
    "    \n",
    "    # View header and tail of BTC for 2 months\n",
    "    print(\"BTC-USD data frame from the user selected (Start_date) to (Today)\") \n",
    "    print(\"-----------------------------------------------------\")\n",
    "    display(btc_df.head())\n",
    "    display(btc_df.tail())\n",
    "    \n",
    "    # Dropping last 2 columns of BTC \n",
    "    btc_new_df = btc_df.drop(columns=['Open','High','Low','Volume'], axis=1)\n",
    "    print(\"BTC-USD update:\")\n",
    "    print(\"---------------\")\n",
    "    btc_new_df\n",
    "    \n",
    "    return btc_new_df"
   ]
  },
  {
   "cell_type": "code",
   "execution_count": null,
   "id": "3052c51e-b80e-458f-ad3f-7698e0419eef",
   "metadata": {},
   "outputs": [],
   "source": [
    "\"\"\"THIS BLOCK OF CODE DEFINES THE FUNCTION BTC_SMA() THAT CREATES THE DATAFRAME OF THE SIMPLE MOVING AVERAGE USING THE USER SPECIFIED ROLLING INTERVAL AND RANGE OF TIME\"\"\"\n",
    "\n",
    "def BTC_SMA():\n",
    "    n_window = n + window\n",
    "    btc_avg = btc_new_df\n",
    "\n",
    "    while n in range(16,59):\n",
    "        #valid==(n < 60)\n",
    "        n_window = n + window\n",
    "        time = btc_new_df[n:n_window].sum()\n",
    "        avg = time/window\n",
    "        btc_avg = btc_avg.append(avg, ignore_index=False)\n",
    "        n += 1 \n",
    "\n",
    "    \n",
    "    btc_final = btc_avg.drop_duplicates()\n",
    "    print(\"This is the listing of 15 day moving averages for Bitcoin\")\n",
    "    display(btc_final)\n",
    "    \n",
    "    return btc_final"
   ]
  },
  {
   "cell_type": "code",
   "execution_count": null,
   "id": "769cb4bd-8b76-41bb-a97c-78bee5dd325b",
   "metadata": {},
   "outputs": [],
   "source": [
    "\"\"\"THIS BLOCK PLOTS THE RESULTS OF THE SIMPLE MOVING AVERAGE PULLED FROM THE BTC_SMA() FUNCTION\"\"\"\n",
    "\n",
    "def plot_SMA_btc():\n",
    "    BTC_SMA().hvplot(x='Date', y='Close', kind = 'line', value_label = \"This is the moving average of Bitcoin over the user specific timeframe and window\")\n",
    "    "
   ]
  },
  {
   "cell_type": "code",
   "execution_count": null,
   "id": "b618a805-03a4-4cb2-a7e8-021ca8825b1c",
   "metadata": {},
   "outputs": [],
   "source": [
    "def run():\n",
    "    \n",
    "    import nest_asyncio\n",
    "    nest_asyncio.apply()\n",
    "\n",
    "    \"\"\"This is the main program\n",
    "    It calls questionary and prompts the user for a specific timeframe and a rolling interval within that timeframe\n",
    "    It then plots the results.  There are two separate functions:  One for Bitcoin and one for Ethereum.\"\"\"\n",
    "    \n",
    "    date_range = get_user_info_1()\n",
    "    \n",
    "#    SMA_range = get_user_info_2()\n",
    "    \n",
    "#    btc_new_df = BTC()\n",
    "    \n",
    "#    btc_final = BTC_SMA()\n",
    "\n",
    "#    plot_SMA_btc()\n",
    "    \n",
    "#    eth_new_df = ETH()\n",
    "    \n",
    "#    eth_final = ETH_SMA()\n",
    "    \n",
    "#    plot_SMA_eth()\n",
    "    \n",
    "    \n",
    "\n",
    "    print(date_range)\n",
    "#    print(SMA_range)\n",
    "\n",
    "\n",
    "if __name__ == \"__main__\":\n",
    "    fire.Fire(run)"
   ]
  },
  {
   "cell_type": "code",
   "execution_count": null,
   "id": "7387c66e-51da-4cd0-8bd6-bd125141306b",
   "metadata": {},
   "outputs": [],
   "source": [
    "\"\"\" This is the code block for ETH \"\"\"\n",
    "\n",
    "# retrieving ETH-USD ticker\n",
    "#eth_data = #btc_data = yf.Ticker('BTC-USD')\n",
    "\n",
    "def ETH()\n",
    "\n",
    "    eth_data = pd.read_csv(\"./Resources/eth-usd.csv\",\n",
    "                            index_col='Date', \n",
    "                            parse_dates=True, \n",
    "                            infer_datetime_format=True)\n",
    "    eth_data\n",
    "    \n",
    "    from datetime import date\n",
    "    today = str(date.today())\n",
    "    print(today)\n",
    "    \n",
    "    # from the initial user input n is already set\n",
    "\n",
    "    from datetime import datetime, timedelta\n",
    "    import time\n",
    "    today = datetime.today()\n",
    "    n = get_user_info_1()\n",
    "    start_date = today - timedelta(days=n)\n",
    "    #print(f\"Today's date,\"  str(today))\n",
    "    #)\n",
    "    #print(f\"The start date for time period,\"  start_date.strftime('%Y-%m-%d')\n",
    "    #)\n",
    "    print (today)\n",
    "    print (start_date)\n",
    "    \n",
    "    eth_df =eth_data.loc[start_date:today]\n",
    "\n",
    "    eth_df.head(85)\n",
    "    \n",
    "    # View header and tail of ETH for 2 months\n",
    "    print(f\"ETH-USD data frame from the user chosen start_date to today\")\n",
    "    print(\"-----------------------------------------------------\")\n",
    "    display(eth_df.head())\n",
    "    display(eth_df.tail())\n",
    "    \n",
    "    # Dropping last 2 columns of ETH \n",
    "    eth_new_df = eth_df.drop(columns=['Open','High','Low','Volume'], axis=1)\n",
    "    print(\"ETH-USD update:\")\n",
    "    print(\"---------------\")\n",
    "    return eth_new_df"
   ]
  },
  {
   "cell_type": "code",
   "execution_count": null,
   "id": "1972756c-7bf7-412c-afd0-e17acbbe555a",
   "metadata": {},
   "outputs": [],
   "source": [
    "\"\"\"\n",
    "from datetime import date\n",
    "today = str(date.today())\n",
    "print(today)\n",
    "\"\"\""
   ]
  },
  {
   "cell_type": "code",
   "execution_count": null,
   "id": "0e2df385-b378-4373-902c-aaf2654e895a",
   "metadata": {},
   "outputs": [],
   "source": [
    "\"\"\"\n",
    "# from the initial user input n is already set\n",
    "\n",
    "from datetime import datetime, timedelta\n",
    "import time\n",
    "today = datetime.today()\n",
    "n = get_user_info_1()\n",
    "start_date = today - timedelta(days=n)\n",
    "#print(f\"Today's date,\"  str(today))\n",
    "#)\n",
    "#print(f\"The start date for time period,\"  start_date.strftime('%Y-%m-%d')\n",
    "#)\n",
    "print (today)\n",
    "print (start_date)\n",
    "\"\"\""
   ]
  },
  {
   "cell_type": "code",
   "execution_count": null,
   "id": "465af2f5-37a7-4b03-80e1-443bf9312cc7",
   "metadata": {},
   "outputs": [],
   "source": [
    "\"\"\"\n",
    "eth_df =eth_data.loc[start_date:today]\n",
    "\n",
    "eth_df.head(85)\n",
    "\"\"\""
   ]
  },
  {
   "cell_type": "code",
   "execution_count": null,
   "id": "675aa43b-010b-4d6c-9ae5-234283466f6a",
   "metadata": {},
   "outputs": [],
   "source": [
    "\"\"\"\n",
    "#Creating ETH history data for 2 months\n",
    "#eth_df = eth_data.history(period='2mo', start='2022-02-05', end='2022-05-05')\n",
    "eth_df =eth_data.iloc[24:89]\n",
    "\n",
    "eth_df.head(50)\n",
    "\"\"\""
   ]
  },
  {
   "cell_type": "code",
   "execution_count": null,
   "id": "c4fedc8d-ed36-40a8-8f1b-8b1854ecacbe",
   "metadata": {},
   "outputs": [],
   "source": [
    "\"\"\"\n",
    "# View header and tail of ETH for 2 months\n",
    "print(f\"ETH-USD data frame from the user chosen start_date to today\")\n",
    "print(\"-----------------------------------------------------\")\n",
    "display(eth_df.head())\n",
    "display(eth_df.tail())\n",
    "\"\"\""
   ]
  },
  {
   "cell_type": "code",
   "execution_count": null,
   "id": "1f85a1cd-b554-4515-b974-5dff7d35f8b4",
   "metadata": {},
   "outputs": [],
   "source": [
    "\"\"\"\n",
    "# Dropping last 2 columns of ETH \n",
    "eth_new_df = eth_df.drop(columns=['Open','High','Low','Volume'], axis=1)\n",
    "print(\"ETH-USD update:\")\n",
    "print(\"---------------\")\n",
    "eth_new_df\n",
    "\"\"\""
   ]
  },
  {
   "cell_type": "code",
   "execution_count": null,
   "id": "b3a06858-1eb1-4dd4-ab74-14f13b5884ee",
   "metadata": {},
   "outputs": [],
   "source": [
    "# ETH-USD csv file\n",
    "#eth_new_df.to_csv('ETH-USD.csv',float_format='%.2f') "
   ]
  },
  {
   "cell_type": "code",
   "execution_count": null,
   "id": "67a907f4-d576-4be9-9798-331a5811d132",
   "metadata": {},
   "outputs": [],
   "source": [
    "# retrieve DOGE-USD ticker\n",
    "#doge_data = yf.Ticker('DOGE-USD')"
   ]
  },
  {
   "cell_type": "code",
   "execution_count": null,
   "id": "fcd2e004-b039-4844-be55-d1b1422e5b91",
   "metadata": {},
   "outputs": [],
   "source": [
    "#Creating DOGE history data for 2 months\n",
    "#doge_df = doge_data.history(period='2mo', start='2022-02-05', end='2022-05-05')"
   ]
  },
  {
   "cell_type": "code",
   "execution_count": null,
   "id": "5b255a30-a62b-4a18-be09-95bfa2d04d22",
   "metadata": {},
   "outputs": [],
   "source": [
    "# View header and tail of DOGE for 2 months\n",
    "\"\"\"\n",
    "print(\"ETH-USD data frame from: April 20, 20220 - May 05, 2022\")\n",
    "print(\"-----------------------------------------------------\")\n",
    "display(doge_df.head())\n",
    "display(doge_df.tail())\n",
    "\"\"\""
   ]
  },
  {
   "cell_type": "code",
   "execution_count": null,
   "id": "07604b91-beda-46e3-a7f7-1a9f165f5948",
   "metadata": {},
   "outputs": [],
   "source": [
    "# Dropping last 2 columns of DOGE \n",
    "\"\"\"\n",
    "doge_new_df = doge_df.drop(columns=['Stock Splits','Dividends'], axis=1)\n",
    "print(\"DOGE-USD update:\")\n",
    "print(\"---------------\")\n",
    "doge_new_df\n",
    "\"\"\""
   ]
  },
  {
   "cell_type": "code",
   "execution_count": null,
   "id": "4a7336bd-a95b-4d37-b2af-e2217e63a46e",
   "metadata": {},
   "outputs": [],
   "source": [
    "# ETH-USD csv file\n",
    "#doge_new_df.to_csv('DOGE-USD.csv',float_format='%.2f') "
   ]
  },
  {
   "cell_type": "code",
   "execution_count": null,
   "id": "6601f670-71eb-47e3-b5a7-ade1a8fbcaa8",
   "metadata": {},
   "outputs": [],
   "source": [
    "# retreiving Index tickers\n",
    "stock_indices = pd.read_html(requests.get('https://finance.yahoo.com/world-indices/').text)\n",
    "major_Stock = stock_indices[0]\n",
    "major_Stock.head()"
   ]
  },
  {
   "cell_type": "code",
   "execution_count": null,
   "id": "e0a7766b-fb25-4f71-82b5-0e5b9cd771ec",
   "metadata": {},
   "outputs": [],
   "source": [
    "#Collecting S&P500 indice\n",
    "sp_data = pd.read_csv(\"./Resources/S&P500.csv\",\n",
    "                      index_col='Date', \n",
    "                        parse_dates=True, \n",
    "                        infer_datetime_format=True)                      \n",
    "sp_data"
   ]
  },
  {
   "cell_type": "code",
   "execution_count": null,
   "id": "5ecb4231-501f-4bcc-a1b8-8fba2298ee88",
   "metadata": {},
   "outputs": [],
   "source": [
    "# sp500 date range\n",
    "sp500_df =sp_data.iloc[15:60]\n",
    "\n",
    "sp500_df.head(50)"
   ]
  },
  {
   "cell_type": "code",
   "execution_count": null,
   "id": "2874f4f4-cbaf-4e9b-801e-b57c0ca2e9b4",
   "metadata": {},
   "outputs": [],
   "source": [
    "# viewing sp500 df\n",
    "print(\"S&P500 data frame from: March 1, 20220 - May 05, 2022\")\n",
    "print(\"-----------------------------------------------------\")\n",
    "display(sp500_df.head())\n",
    "display(sp500_df.tail())"
   ]
  },
  {
   "cell_type": "code",
   "execution_count": null,
   "id": "d29eac1d-c636-4b43-9049-dcf313bb36e0",
   "metadata": {},
   "outputs": [],
   "source": [
    "#drop columns \n",
    "sp500_new_df = sp500_df.drop(columns=['Open','High','Low','Volume'], axis=1)\n",
    "sp500_new_df"
   ]
  },
  {
   "cell_type": "code",
   "execution_count": null,
   "id": "c9c20801-50a6-4894-ab59-f9a28c8074bd",
   "metadata": {},
   "outputs": [],
   "source": [
    "#creating sp500 csv file\n",
    "nasdaq_data = pd.read_csv(\"./Resources/NASDAQ.csv\",\n",
    "                          index_col='Date', \n",
    "                        parse_dates=True, \n",
    "                        infer_datetime_format=True)                      \n",
    "nasdaq_data"
   ]
  },
  {
   "cell_type": "code",
   "execution_count": null,
   "id": "1785537f-15b8-4524-9dd3-38775c344307",
   "metadata": {},
   "outputs": [],
   "source": [
    "#creating nasdaq df\n",
    "#nasdaq_data = yf.Ticker('^IXIC')"
   ]
  },
  {
   "cell_type": "code",
   "execution_count": null,
   "id": "76ef1a65-5582-4062-acd3-bfb3e5da75f7",
   "metadata": {},
   "outputs": [],
   "source": [
    "# nasdq date range\n",
    "nasdaq_df =nasdaq_data.iloc[15:60]\n",
    "\n",
    "nasdaq_df.head(50)"
   ]
  },
  {
   "cell_type": "code",
   "execution_count": null,
   "id": "56fe3969-8e98-4f50-b12b-bc0d5885573e",
   "metadata": {},
   "outputs": [],
   "source": [
    "print(\"NASDAQ data frame from: March 1, 20220 - May 05, 2022\")\n",
    "print(\"----------------------------------------------------\")\n",
    "display(nasdaq_df.head())\n",
    "display(nasdaq_df.tail())"
   ]
  },
  {
   "cell_type": "code",
   "execution_count": null,
   "id": "480ec5e9-c831-4311-95d0-32e320dc71d9",
   "metadata": {},
   "outputs": [],
   "source": [
    "# drop columns \n",
    "nasdaq_new_df = nasdaq_df.drop(columns=['Open','High','Low','Volume'], axis=1)\n",
    "nasdaq_new_df"
   ]
  },
  {
   "cell_type": "code",
   "execution_count": null,
   "id": "d9dbde69-ae4c-4a92-8148-91ec883a4861",
   "metadata": {},
   "outputs": [],
   "source": [
    "#nasdaq_new_df.to_csv('NASDAQ.csv',float_format='%.2f') "
   ]
  },
  {
   "cell_type": "code",
   "execution_count": null,
   "id": "d6babb4c-e36b-4707-854c-3b95e25ce536",
   "metadata": {},
   "outputs": [],
   "source": [
    "display(btc_new_df)"
   ]
  },
  {
   "cell_type": "code",
   "execution_count": null,
   "id": "459f9cf5-fd97-4471-bf1c-9f3e7dba9fd5",
   "metadata": {},
   "outputs": [],
   "source": [
    "display(eth_new_df)"
   ]
  },
  {
   "cell_type": "code",
   "execution_count": null,
   "id": "e5693486-700d-46af-a755-f7796c89fd3b",
   "metadata": {},
   "outputs": [],
   "source": [
    "display(sp500_new_df)"
   ]
  },
  {
   "cell_type": "code",
   "execution_count": null,
   "id": "0918cc3a-3715-4116-84c0-2daff147f90d",
   "metadata": {},
   "outputs": [],
   "source": [
    "display(nasdaq_new_df)"
   ]
  },
  {
   "cell_type": "code",
   "execution_count": null,
   "id": "d46d532f-b240-4b49-aeb9-018a264f13c9",
   "metadata": {},
   "outputs": [],
   "source": [
    "\"\"\"\n",
    "This is the code block for the 15 day moving average for Bitcoin over a 2 month period.  \n",
    "\n",
    "\"\"\"\n",
    "\n",
    "end = 60\n",
    "n <= end\n",
    "n = 0\n",
    "window = 15\n",
    "n_window = n + window\n",
    "btc_avg = btc_new_df\n",
    "\n",
    "while n in range(16,59):\n",
    "    #valid==(n < 60)\n",
    "    n_window = n + window\n",
    "    time = btc_new_df[n:n_window].sum()\n",
    "    avg = time/window\n",
    "    btc_avg = btc_avg.append(avg, ignore_index=False)\n",
    "    n += 1 \n",
    "\n",
    "    \n",
    "btc_final = btc_avg.drop_duplicates()\n",
    "print(\"This is the listing of 15 day moving averages for Bitcoin\")\n",
    "display(btc_final)"
   ]
  },
  {
   "cell_type": "code",
   "execution_count": null,
   "id": "cd8c0039-6668-484b-bb21-3d37ed1d25a2",
   "metadata": {},
   "outputs": [],
   "source": [
    "btc_final.hvplot(x='Date', y='Close', kind = 'line', clabel = \"This is the 15 day moving average of the Bitcoin\")"
   ]
  },
  {
   "cell_type": "code",
   "execution_count": null,
   "id": "2221fce0-0aed-4fda-84e5-2592b4d13641",
   "metadata": {},
   "outputs": [],
   "source": [
    "\"\"\"\n",
    "This is the code block for the 15 day moving average for Ethereum over a 2 month period.  \n",
    "\n",
    "\"\"\"\n",
    "\n",
    "end = 60\n",
    "n <= end\n",
    "n = 0\n",
    "window = 15\n",
    "n_window = n + window\n",
    "eth_avg = eth_new_df\n",
    "\n",
    "while n in range(16,59):\n",
    "    #valid==(n < 60)\n",
    "    n_window = n + window\n",
    "    time = eth_new_df[n:n_window].sum()\n",
    "    avg = time/window\n",
    "    eth_avg = eth_avg.append(avg, ignore_index=False)\n",
    "    n += 1 \n",
    "\n",
    "    \n",
    "eth_final = eth_avg.drop_duplicates()\n",
    "print(\"This is the listing of 15 day moving averages for Ethereum\")\n",
    "display(eth_final)"
   ]
  },
  {
   "cell_type": "code",
   "execution_count": null,
   "id": "dc15ac59-e570-465a-a769-685207950c40",
   "metadata": {},
   "outputs": [],
   "source": [
    "eth_final.hvplot(x='Date', y='Close', kind = 'line', clabel = \"This is the 15 day moving average of the Ethereum\")"
   ]
  },
  {
   "cell_type": "code",
   "execution_count": null,
   "id": "75b24f67-96fd-4d2d-a848-0b8e1c746f4d",
   "metadata": {},
   "outputs": [],
   "source": [
    "\"\"\"\n",
    "This is the code block for the 15 day moving average for S&P 500 over a 2 month period.  \n",
    "\n",
    "\"\"\"\n",
    "\n",
    "end = 60\n",
    "n <= end\n",
    "n = 0\n",
    "window = 15\n",
    "n_window = n + window\n",
    "sp500_avg = sp500_new_df\n",
    "\n",
    "while n in range(16,59):\n",
    "    #valid==(n < 60)\n",
    "    n_window = n + window\n",
    "    time = sp500_new_df[n:n_window].sum()\n",
    "    avg = time/window\n",
    "    sp500_avg = sp500_avg.append(avg, ignore_index=False)\n",
    "    n += 1 \n",
    "\n",
    "    \n",
    "sp500_final = sp500_avg.drop_duplicates()\n",
    "print(\"This is the listing of 15 day moving averages\")\n",
    "display(sp500_final)"
   ]
  },
  {
   "cell_type": "code",
   "execution_count": null,
   "id": "d5f3c3ab-9fd2-47d7-9914-546b3bd8d300",
   "metadata": {},
   "outputs": [],
   "source": [
    "sp500_final.hvplot(x='Date', y='Close', kind = 'line', clabel = \"This is the 15 day moving average of the S&P 500\")"
   ]
  },
  {
   "cell_type": "code",
   "execution_count": null,
   "id": "f7fcefd3-ad06-4a48-9447-22d6ea99dee3",
   "metadata": {},
   "outputs": [],
   "source": [
    "\"\"\"\n",
    "This is the code block for the 15 day moving average for Nasdaq over a 2 month period.  \n",
    "\n",
    "\"\"\"\n",
    "\n",
    "end = 60\n",
    "n <= end\n",
    "n = 0\n",
    "window = 15\n",
    "n_window = n + window\n",
    "nasdaq_avg = nasdaq_new_df\n",
    "\n",
    "while n in range(16,59):\n",
    "    #valid==(n < 60)\n",
    "    n_window = n + window\n",
    "    time = nasdaq_new_df[n:n_window].sum()\n",
    "    avg = time/window\n",
    "    nasdaq_avg = nasdaq_avg.append(avg, ignore_index=False)\n",
    "    n += 1 \n",
    "\n",
    "    \n",
    "nasdaq_final = nasdaq_avg.drop_duplicates()\n",
    "print(\"This is the listing of 15 day moving averages\")\n",
    "display(nasdaq_final)"
   ]
  },
  {
   "cell_type": "code",
   "execution_count": null,
   "id": "6194ff21-bcf6-4415-b6f0-558bb082d546",
   "metadata": {},
   "outputs": [],
   "source": [
    "nasdaq_final.hvplot(x='Date', y='Close', kind = 'line', clabel = \"This is the 15 day moving average of the Nasdaq\")"
   ]
  },
  {
   "cell_type": "markdown",
   "id": "24327af0-98f5-412e-af94-6b90141b933a",
   "metadata": {},
   "source": []
  },
  {
   "cell_type": "code",
   "execution_count": null,
   "id": "9c16fce5-03aa-4399-87ff-76c50f9bdadd",
   "metadata": {},
   "outputs": [],
   "source": [
    "\"\"\"\n",
    "Linear regression analysis is used to predict the value of a variable based on the \n",
    "value of another variable. The variable you want to predict is called the dependent \n",
    "variable. The variable you are using to predict the other variable's value is called \n",
    "the independent variable.\n",
    "\n",
    "\"\"\""
   ]
  },
  {
   "cell_type": "code",
   "execution_count": null,
   "id": "daab0450-b69e-4063-b156-02717249a171",
   "metadata": {},
   "outputs": [],
   "source": []
  }
 ],
 "metadata": {
  "interpreter": {
   "hash": "1d97cfe67d93bd61411357f41262dce7164e91d8e57d407f33ce24a16e23b2ca"
  },
  "kernelspec": {
   "display_name": "Python 3 (ipykernel)",
   "language": "python",
   "name": "python3"
  },
  "language_info": {
   "codemirror_mode": {
    "name": "ipython",
    "version": 3
   },
   "file_extension": ".py",
   "mimetype": "text/x-python",
   "name": "python",
   "nbconvert_exporter": "python",
   "pygments_lexer": "ipython3",
   "version": "3.9.7"
  }
 },
 "nbformat": 4,
 "nbformat_minor": 5
}
