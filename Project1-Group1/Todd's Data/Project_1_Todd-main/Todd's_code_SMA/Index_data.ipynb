{
 "cells": [
  {
   "cell_type": "code",
   "execution_count": 5,
   "id": "db163187-9b92-49de-b975-17ece31d0235",
   "metadata": {},
   "outputs": [
    {
     "ename": "ModuleNotFoundError",
     "evalue": "No module named 'yfinance'",
     "output_type": "error",
     "traceback": [
      "\u001b[1;31m---------------------------------------------------------------------------\u001b[0m",
      "\u001b[1;31mModuleNotFoundError\u001b[0m                       Traceback (most recent call last)",
      "\u001b[1;32m~AppData\\Local\\Temp\\ipykernel_13444\\1503463852.py\u001b[0m in \u001b[0;36m<module>\u001b[1;34m\u001b[0m\n\u001b[0;32m      3\u001b[0m \u001b[1;32mimport\u001b[0m \u001b[0mnumpy\u001b[0m \u001b[1;32mas\u001b[0m \u001b[0mnp\u001b[0m\u001b[1;33m\u001b[0m\u001b[1;33m\u001b[0m\u001b[0m\n\u001b[0;32m      4\u001b[0m \u001b[1;32mimport\u001b[0m \u001b[0mpandas\u001b[0m \u001b[1;32mas\u001b[0m \u001b[0mpd\u001b[0m\u001b[1;33m\u001b[0m\u001b[1;33m\u001b[0m\u001b[0m\n\u001b[1;32m----> 5\u001b[1;33m \u001b[1;32mimport\u001b[0m \u001b[0myfinance\u001b[0m \u001b[1;32mas\u001b[0m \u001b[0myf\u001b[0m\u001b[1;33m\u001b[0m\u001b[1;33m\u001b[0m\u001b[0m\n\u001b[0m\u001b[0;32m      6\u001b[0m \u001b[1;32mimport\u001b[0m \u001b[0mrequests\u001b[0m\u001b[1;33m\u001b[0m\u001b[1;33m\u001b[0m\u001b[0m\n",
      "\u001b[1;31mModuleNotFoundError\u001b[0m: No module named 'yfinance'"
     ]
    }
   ],
   "source": [
    "#pip install yahoo-finance\n",
    "\n",
    "import numpy as np \n",
    "import pandas as pd \n",
    "import yfinance as yf\n",
    "import requests"
   ]
  },
  {
   "cell_type": "code",
   "execution_count": null,
   "id": "e224a204-77e6-4490-9375-4492d0b73ca0",
   "metadata": {},
   "outputs": [],
   "source": [
    "stock_list = pd.read_html(requests.get('https://finance.yahoo.com/world-indices/').text)\n",
    "major_Stock = stock_list[0]\n",
    "major_Stock"
   ]
  },
  {
   "cell_type": "code",
   "execution_count": null,
   "id": "e0a7766b-fb25-4f71-82b5-0e5b9cd771ec",
   "metadata": {},
   "outputs": [],
   "source": [
    "#Collecting S&P500\n",
    "ticker_data = yf.Ticker('^GSPC')"
   ]
  },
  {
   "cell_type": "code",
   "execution_count": null,
   "id": "5ecb4231-501f-4bcc-a1b8-8fba2298ee88",
   "metadata": {},
   "outputs": [],
   "source": [
    "#giving it date range\n",
    "sp500_df = ticker_data.history(period='40d', start='2022-03-20', end='2022-05-05')"
   ]
  },
  {
   "cell_type": "code",
   "execution_count": null,
   "id": "2874f4f4-cbaf-4e9b-801e-b57c0ca2e9b4",
   "metadata": {},
   "outputs": [],
   "source": [
    "# viewing ticker df\n",
    "print(\"S&P500 data frame from: March 20, 20220 - May 05, 2022\")\n",
    "print(\"-----------------------------------------------------\")\n",
    "display(sp500_df.head())\n",
    "display(sp500_df.tail())"
   ]
  },
  {
   "cell_type": "code",
   "execution_count": null,
   "id": "1785537f-15b8-4524-9dd3-38775c344307",
   "metadata": {},
   "outputs": [],
   "source": [
    "ticker_data_2 = yf.Ticker('^IXIC')"
   ]
  },
  {
   "cell_type": "code",
   "execution_count": null,
   "id": "76ef1a65-5582-4062-acd3-bfb3e5da75f7",
   "metadata": {},
   "outputs": [],
   "source": [
    "nasdaq_df = ticker_data_2.history(period='40d', start='2022-03-20', end='2022-05-05')"
   ]
  },
  {
   "cell_type": "code",
   "execution_count": null,
   "id": "56fe3969-8e98-4f50-b12b-bc0d5885573e",
   "metadata": {},
   "outputs": [],
   "source": [
    "print(\"NASDAQ data frame from: March 20, 20220 - May 05, 2022\")\n",
    "print(\"----------------------------------------------------\")\n",
    "display(nasdaq_df.head())\n",
    "display(nasdaq_df.tail())"
   ]
  },
  {
   "cell_type": "code",
   "execution_count": null,
   "id": "aa3b8a71-56f7-4bb3-9185-b7cf6429c80c",
   "metadata": {},
   "outputs": [],
   "source": []
  },
  {
   "cell_type": "code",
   "execution_count": null,
   "id": "71c6c2c3-4cc6-4560-a77e-768e396ac06c",
   "metadata": {},
   "outputs": [],
   "source": []
  }
 ],
 "metadata": {
  "kernelspec": {
   "display_name": "Python 3 (ipykernel)",
   "language": "python",
   "name": "python3"
  },
  "language_info": {
   "codemirror_mode": {
    "name": "ipython",
    "version": 3
   },
   "file_extension": ".py",
   "mimetype": "text/x-python",
   "name": "python",
   "nbconvert_exporter": "python",
   "pygments_lexer": "ipython3",
   "version": "3.7.11"
  }
 },
 "nbformat": 4,
 "nbformat_minor": 5
}
